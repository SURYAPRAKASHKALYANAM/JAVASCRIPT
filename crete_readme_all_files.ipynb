{
 "cells": [
  {
   "cell_type": "code",
   "execution_count": 24,
   "metadata": {},
   "outputs": [],
   "source": [
    "import os"
   ]
  },
  {
   "cell_type": "code",
   "execution_count": 25,
   "metadata": {},
   "outputs": [
    {
     "data": {
      "text/plain": [
       "'.'"
      ]
     },
     "execution_count": 25,
     "metadata": {},
     "output_type": "execute_result"
    }
   ],
   "source": [
    "os.curdir\n"
   ]
  },
  {
   "cell_type": "code",
   "execution_count": 26,
   "metadata": {},
   "outputs": [],
   "source": [
    "l=os.listdir()\n",
    "templ=l.copy()"
   ]
  },
  {
   "cell_type": "code",
   "execution_count": 27,
   "metadata": {},
   "outputs": [
    {
     "data": {
      "text/plain": [
       "99"
      ]
     },
     "execution_count": 27,
     "metadata": {},
     "output_type": "execute_result"
    }
   ],
   "source": [
    "len(l)"
   ]
  },
  {
   "cell_type": "code",
   "execution_count": 28,
   "metadata": {},
   "outputs": [
    {
     "name": "stdout",
     "output_type": "stream",
     "text": [
      "['https://github.com/SURYAPRAKASHKALYANAM/JAVASCRIPT/tree/main/.git', 'https://github.com/SURYAPRAKASHKALYANAM/JAVASCRIPT/tree/main/.hintrc', 'https://github.com/SURYAPRAKASHKALYANAM/JAVASCRIPT/tree/main/.vscode', 'https://github.com/SURYAPRAKASHKALYANAM/JAVASCRIPT/blob/main/03_var_let_const.js', 'https://github.com/SURYAPRAKASHKALYANAM/JAVASCRIPT/blob/main/04_primitive_bjects.js', 'https://github.com/SURYAPRAKASHKALYANAM/JAVASCRIPT/blob/main/05_ch1_practicese.js', 'https://github.com/SURYAPRAKASHKALYANAM/JAVASCRIPT/blob/main/06_operators.js', 'https://github.com/SURYAPRAKASHKALYANAM/JAVASCRIPT/blob/main/07_conditionalexpressions.js', 'https://github.com/SURYAPRAKASHKALYANAM/JAVASCRIPT/blob/main/08_ch2_practice.js', 'https://github.com/SURYAPRAKASHKALYANAM/JAVASCRIPT/blob/main/09_for_loops.js', 'https://github.com/SURYAPRAKASHKALYANAM/JAVASCRIPT/tree/main/100_javascript_eventloop', 'https://github.com/SURYAPRAKASHKALYANAM/JAVASCRIPT/blob/main/10_whileloops.js', 'https://github.com/SURYAPRAKASHKALYANAM/JAVASCRIPT/blob/main/11_functions.js', 'https://github.com/SURYAPRAKASHKALYANAM/JAVASCRIPT/blob/main/12_ch3Practicest.js', 'https://github.com/SURYAPRAKASHKALYANAM/JAVASCRIPT/blob/main/13_strins.js', 'https://github.com/SURYAPRAKASHKALYANAM/JAVASCRIPT/blob/main/14_stringmethods.js', 'https://github.com/SURYAPRAKASHKALYANAM/JAVASCRIPT/blob/main/15_ch4_practiceset.js', 'https://github.com/SURYAPRAKASHKALYANAM/JAVASCRIPT/blob/main/16_arrays.js', 'https://github.com/SURYAPRAKASHKALYANAM/JAVASCRIPT/blob/main/17&18_arraymethods.js', 'https://github.com/SURYAPRAKASHKALYANAM/JAVASCRIPT/blob/main/19_array_loops.js', 'https://github.com/SURYAPRAKASHKALYANAM/JAVASCRIPT/blob/main/20_map,filter,reduce.js', 'https://github.com/SURYAPRAKASHKALYANAM/JAVASCRIPT/blob/main/21_ch5practice.js', 'https://github.com/SURYAPRAKASHKALYANAM/JAVASCRIPT/blob/main/22_excercise1_guessing number.js', 'https://github.com/SURYAPRAKASHKALYANAM/JAVASCRIPT/tree/main/23_javascript_in_browser', 'https://github.com/SURYAPRAKASHKALYANAM/JAVASCRIPT/tree/main/24_javascript_tag', 'https://github.com/SURYAPRAKASHKALYANAM/JAVASCRIPT/tree/main/25_javascript_consoleobject', 'https://github.com/SURYAPRAKASHKALYANAM/JAVASCRIPT/tree/main/27_javascript_alert,prompt,confirm', 'https://github.com/SURYAPRAKASHKALYANAM/JAVASCRIPT/tree/main/28_javascript_DOM,BOM,WINDOW OBJECT', 'https://github.com/SURYAPRAKASHKALYANAM/JAVASCRIPT/tree/main/29_javascript_CHAPTER6 practice', 'https://github.com/SURYAPRAKASHKALYANAM/JAVASCRIPT/tree/main/30_excercise2_snake,watre,gun', 'https://github.com/SURYAPRAKASHKALYANAM/JAVASCRIPT/tree/main/31_javascript_waking_the_dom', 'https://github.com/SURYAPRAKASHKALYANAM/JAVASCRIPT/tree/main/32_javascript_DOM_ACCSSING CHILDEN', 'https://github.com/SURYAPRAKASHKALYANAM/JAVASCRIPT/tree/main/33_javascript_DOM_parents and siblings', 'https://github.com/SURYAPRAKASHKALYANAM/JAVASCRIPT/tree/main/34_javascript_Elementonlynavigation', 'https://github.com/SURYAPRAKASHKALYANAM/JAVASCRIPT/tree/main/35_javascript_table_links', 'https://github.com/SURYAPRAKASHKALYANAM/JAVASCRIPT/tree/main/36_javascript_searching_dom', 'https://github.com/SURYAPRAKASHKALYANAM/JAVASCRIPT/tree/main/37_javascript_matches,closestandcontains', 'https://github.com/SURYAPRAKASHKALYANAM/JAVASCRIPT/tree/main/38_javascript_ch7practice', 'https://github.com/SURYAPRAKASHKALYANAM/JAVASCRIPT/tree/main/40_javascript_exercise2', 'https://github.com/SURYAPRAKASHKALYANAM/JAVASCRIPT/tree/main/41_javascript_inner,outer html', 'https://github.com/SURYAPRAKASHKALYANAM/JAVASCRIPT/tree/main/42_javascript_html attributes and methods', 'https://github.com/SURYAPRAKASHKALYANAM/JAVASCRIPT/tree/main/43_javascript_html insertion methods', 'https://github.com/SURYAPRAKASHKALYANAM/JAVASCRIPT/tree/main/44_javascript_insertadjacent-html,text,elememt', 'https://github.com/SURYAPRAKASHKALYANAM/JAVASCRIPT/tree/main/45_javascript_classlist,classname', 'https://github.com/SURYAPRAKASHKALYANAM/JAVASCRIPT/tree/main/46_javascript_setinterval&timeout', 'https://github.com/SURYAPRAKASHKALYANAM/JAVASCRIPT/tree/main/47_javascript_intro to browser events', 'https://github.com/SURYAPRAKASHKALYANAM/JAVASCRIPT/tree/main/48_javascript_handling browser events', 'https://github.com/SURYAPRAKASHKALYANAM/JAVASCRIPT/tree/main/49_javascript_ch8practice', 'https://github.com/SURYAPRAKASHKALYANAM/JAVASCRIPT/tree/main/50_javascript_clockusing', 'https://github.com/SURYAPRAKASHKALYANAM/JAVASCRIPT/tree/main/52_javascript_introduction to callbacks', 'https://github.com/SURYAPRAKASHKALYANAM/JAVASCRIPT/tree/main/53_javascript_callback hell & pyramid of dom', 'https://github.com/SURYAPRAKASHKALYANAM/JAVASCRIPT/tree/main/54_javascript_introduction to promise', 'https://github.com/SURYAPRAKASHKALYANAM/JAVASCRIPT/tree/main/55_javascript_promise then catch', 'https://github.com/SURYAPRAKASHKALYANAM/JAVASCRIPT/tree/main/56_javascript_promise then chaining', 'https://github.com/SURYAPRAKASHKALYANAM/JAVASCRIPT/tree/main/57_javascript_multiple handlers to a promise', 'https://github.com/SURYAPRAKASHKALYANAM/JAVASCRIPT/tree/main/58_javascript_promise api', 'https://github.com/SURYAPRAKASHKALYANAM/JAVASCRIPT/tree/main/59_javascript_Async_wait', 'https://github.com/SURYAPRAKASHKALYANAM/JAVASCRIPT/tree/main/60_javascript_errorhandling_trycatch', 'https://github.com/SURYAPRAKASHKALYANAM/JAVASCRIPT/tree/main/61_javascript_errorobject_customerror', 'https://github.com/SURYAPRAKASHKALYANAM/JAVASCRIPT/tree/main/62_javascript_the finallyclause', 'https://github.com/SURYAPRAKASHKALYANAM/JAVASCRIPT/tree/main/63_javascript_ch9practise', 'https://github.com/SURYAPRAKASHKALYANAM/JAVASCRIPT/tree/main/65_javascript_exercise5', 'https://github.com/SURYAPRAKASHKALYANAM/JAVASCRIPT/tree/main/66_javascript_fetchapi', 'https://github.com/SURYAPRAKASHKALYANAM/JAVASCRIPT/tree/main/67_javascript_post', 'https://github.com/SURYAPRAKASHKALYANAM/JAVASCRIPT/tree/main/68_javascript_cookies', 'https://github.com/SURYAPRAKASHKALYANAM/JAVASCRIPT/tree/main/69_javascript_localstorage_methods', 'https://github.com/SURYAPRAKASHKALYANAM/JAVASCRIPT/tree/main/70_javascript_sessionstorage_methods', 'https://github.com/SURYAPRAKASHKALYANAM/JAVASCRIPT/tree/main/71_javascript_ch10practise', 'https://github.com/SURYAPRAKASHKALYANAM/JAVASCRIPT/tree/main/73_javascript_exercise6_todolist', 'https://github.com/SURYAPRAKASHKALYANAM/JAVASCRIPT/tree/main/74_javascript_prototypes', 'https://github.com/SURYAPRAKASHKALYANAM/JAVASCRIPT/tree/main/75_javascript_classes and objects', 'https://github.com/SURYAPRAKASHKALYANAM/JAVASCRIPT/tree/main/76_javascript_constructors', 'https://github.com/SURYAPRAKASHKALYANAM/JAVASCRIPT/tree/main/77_javascript_inheritence_extends', 'https://github.com/SURYAPRAKASHKALYANAM/JAVASCRIPT/tree/main/78_javascript_method_overriding', 'https://github.com/SURYAPRAKASHKALYANAM/JAVASCRIPT/tree/main/79_javascript_constructor_overriding', 'https://github.com/SURYAPRAKASHKALYANAM/JAVASCRIPT/tree/main/81_javascript_static_method', 'https://github.com/SURYAPRAKASHKALYANAM/JAVASCRIPT/tree/main/82_javascript_get_set', 'https://github.com/SURYAPRAKASHKALYANAM/JAVASCRIPT/tree/main/83_javascript_ch11practice', 'https://github.com/SURYAPRAKASHKALYANAM/JAVASCRIPT/tree/main/86_javascript_IIFE', 'https://github.com/SURYAPRAKASHKALYANAM/JAVASCRIPT/tree/main/87_javascript_destructassignand spred_operatr', 'https://github.com/SURYAPRAKASHKALYANAM/JAVASCRIPT/tree/main/88_javascript_local_global_scope', 'https://github.com/SURYAPRAKASHKALYANAM/JAVASCRIPT/tree/main/89_javascript_hoisting', 'https://github.com/SURYAPRAKASHKALYANAM/JAVASCRIPT/tree/main/90_javascript_closures', 'https://github.com/SURYAPRAKASHKALYANAM/JAVASCRIPT/tree/main/91_javascript_arrow functions revisited', 'https://github.com/SURYAPRAKASHKALYANAM/JAVASCRIPT/tree/main/92_javascript_ch12practice', 'https://github.com/SURYAPRAKASHKALYANAM/JAVASCRIPT/tree/main/93_javascript_passwordgenerator', 'https://github.com/SURYAPRAKASHKALYANAM/JAVASCRIPT/tree/main/94_javascript_alarmclock', 'https://github.com/SURYAPRAKASHKALYANAM/JAVASCRIPT/tree/main/95_javascript_serverside', 'https://github.com/SURYAPRAKASHKALYANAM/JAVASCRIPT/tree/main/96_javascript_npmnode', 'https://github.com/SURYAPRAKASHKALYANAM/JAVASCRIPT/tree/main/97_javasccript_modules', 'https://github.com/SURYAPRAKASHKALYANAM/JAVASCRIPT/tree/main/98_javascript_express to create backend server', 'https://github.com/SURYAPRAKASHKALYANAM/JAVASCRIPT/tree/main/99_javascript_regularexpression', 'https://github.com/SURYAPRAKASHKALYANAM/JAVASCRIPT/tree/main/crete_readme_all_files.ipynb', 'https://github.com/SURYAPRAKASHKALYANAM/JAVASCRIPT/tree/main/jsconfig.json', 'https://github.com/SURYAPRAKASHKALYANAM/JAVASCRIPT/tree/main/node_modules', 'https://github.com/SURYAPRAKASHKALYANAM/JAVASCRIPT/tree/main/package-lock.json', 'https://github.com/SURYAPRAKASHKALYANAM/JAVASCRIPT/tree/main/package.json', 'https://github.com/SURYAPRAKASHKALYANAM/JAVASCRIPT/tree/main/README.md', 'https://github.com/SURYAPRAKASHKALYANAM/JAVASCRIPT/tree/main/theme.min.css']\n"
     ]
    }
   ],
   "source": [
    "# URL for .js files\n",
    "js_url = 'https://github.com/SURYAPRAKASHKALYANAM/JAVASCRIPT/blob/main/{}'\n",
    "\n",
    "# URL for folders\n",
    "folder_url = 'https://github.com/SURYAPRAKASHKALYANAM/JAVASCRIPT/tree/main/{}'\n",
    "\n",
    "# Replace .js files and folders with the specified URLs\n",
    "for i in range(len(l)):\n",
    "    if l[i].endswith('.js'):\n",
    "        l[i] = js_url.format(l[i])\n",
    "    else:\n",
    "        l[i] = folder_url.format(l[i])\n",
    "\n",
    "# Print the updated list\n",
    "print(l)"
   ]
  },
  {
   "cell_type": "code",
   "execution_count": 30,
   "metadata": {},
   "outputs": [
    {
     "data": {
      "text/plain": [
       "['.git',\n",
       " '.hintrc',\n",
       " '.vscode',\n",
       " '03_var_let_const.js',\n",
       " '04_primitive_bjects.js',\n",
       " '05_ch1_practicese.js',\n",
       " '06_operators.js',\n",
       " '07_conditionalexpressions.js',\n",
       " '08_ch2_practice.js',\n",
       " '09_for_loops.js',\n",
       " '100_javascript_eventloop',\n",
       " '10_whileloops.js',\n",
       " '11_functions.js',\n",
       " '12_ch3Practicest.js',\n",
       " '13_strins.js',\n",
       " '14_stringmethods.js',\n",
       " '15_ch4_practiceset.js',\n",
       " '16_arrays.js',\n",
       " '17&18_arraymethods.js',\n",
       " '19_array_loops.js',\n",
       " '20_map,filter,reduce.js',\n",
       " '21_ch5practice.js',\n",
       " '22_excercise1_guessing number.js',\n",
       " '23_javascript_in_browser',\n",
       " '24_javascript_tag',\n",
       " '25_javascript_consoleobject',\n",
       " '27_javascript_alert,prompt,confirm',\n",
       " '28_javascript_DOM,BOM,WINDOW OBJECT',\n",
       " '29_javascript_CHAPTER6 practice',\n",
       " '30_excercise2_snake,watre,gun',\n",
       " '31_javascript_waking_the_dom',\n",
       " '32_javascript_DOM_ACCSSING CHILDEN',\n",
       " '33_javascript_DOM_parents and siblings',\n",
       " '34_javascript_Elementonlynavigation',\n",
       " '35_javascript_table_links',\n",
       " '36_javascript_searching_dom',\n",
       " '37_javascript_matches,closestandcontains',\n",
       " '38_javascript_ch7practice',\n",
       " '40_javascript_exercise2',\n",
       " '41_javascript_inner,outer html',\n",
       " '42_javascript_html attributes and methods',\n",
       " '43_javascript_html insertion methods',\n",
       " '44_javascript_insertadjacent-html,text,elememt',\n",
       " '45_javascript_classlist,classname',\n",
       " '46_javascript_setinterval&timeout',\n",
       " '47_javascript_intro to browser events',\n",
       " '48_javascript_handling browser events',\n",
       " '49_javascript_ch8practice',\n",
       " '50_javascript_clockusing',\n",
       " '52_javascript_introduction to callbacks',\n",
       " '53_javascript_callback hell & pyramid of dom',\n",
       " '54_javascript_introduction to promise',\n",
       " '55_javascript_promise then catch',\n",
       " '56_javascript_promise then chaining',\n",
       " '57_javascript_multiple handlers to a promise',\n",
       " '58_javascript_promise api',\n",
       " '59_javascript_Async_wait',\n",
       " '60_javascript_errorhandling_trycatch',\n",
       " '61_javascript_errorobject_customerror',\n",
       " '62_javascript_the finallyclause',\n",
       " '63_javascript_ch9practise',\n",
       " '65_javascript_exercise5',\n",
       " '66_javascript_fetchapi',\n",
       " '67_javascript_post',\n",
       " '68_javascript_cookies',\n",
       " '69_javascript_localstorage_methods',\n",
       " '70_javascript_sessionstorage_methods',\n",
       " '71_javascript_ch10practise',\n",
       " '73_javascript_exercise6_todolist',\n",
       " '74_javascript_prototypes',\n",
       " '75_javascript_classes and objects',\n",
       " '76_javascript_constructors',\n",
       " '77_javascript_inheritence_extends',\n",
       " '78_javascript_method_overriding',\n",
       " '79_javascript_constructor_overriding',\n",
       " '81_javascript_static_method',\n",
       " '82_javascript_get_set',\n",
       " '83_javascript_ch11practice',\n",
       " '86_javascript_IIFE',\n",
       " '87_javascript_destructassignand spred_operatr',\n",
       " '88_javascript_local_global_scope',\n",
       " '89_javascript_hoisting',\n",
       " '90_javascript_closures',\n",
       " '91_javascript_arrow functions revisited',\n",
       " '92_javascript_ch12practice',\n",
       " '93_javascript_passwordgenerator',\n",
       " '94_javascript_alarmclock',\n",
       " '95_javascript_serverside',\n",
       " '96_javascript_npmnode',\n",
       " '97_javasccript_modules',\n",
       " '98_javascript_express to create backend server',\n",
       " '99_javascript_regularexpression',\n",
       " 'crete_readme_all_files.ipynb',\n",
       " 'jsconfig.json',\n",
       " 'node_modules',\n",
       " 'package-lock.json',\n",
       " 'package.json',\n",
       " 'README.md',\n",
       " 'theme.min.css']"
      ]
     },
     "execution_count": 30,
     "metadata": {},
     "output_type": "execute_result"
    }
   ],
   "source": [
    "templ"
   ]
  },
  {
   "cell_type": "code",
   "execution_count": 31,
   "metadata": {},
   "outputs": [],
   "source": [
    "# add html\n",
    "links=[]\n",
    "for i in range(len(templ)):\n",
    "    links.append('<a href=\"{}\">{}</a>'.format(l[i],templ[i]))"
   ]
  },
  {
   "cell_type": "code",
   "execution_count": 32,
   "metadata": {},
   "outputs": [
    {
     "data": {
      "text/plain": [
       "['<a href=\"https://github.com/SURYAPRAKASHKALYANAM/JAVASCRIPT/tree/main/.git\">.git</a>',\n",
       " '<a href=\"https://github.com/SURYAPRAKASHKALYANAM/JAVASCRIPT/tree/main/.hintrc\">.hintrc</a>',\n",
       " '<a href=\"https://github.com/SURYAPRAKASHKALYANAM/JAVASCRIPT/tree/main/.vscode\">.vscode</a>',\n",
       " '<a href=\"https://github.com/SURYAPRAKASHKALYANAM/JAVASCRIPT/blob/main/03_var_let_const.js\">03_var_let_const.js</a>',\n",
       " '<a href=\"https://github.com/SURYAPRAKASHKALYANAM/JAVASCRIPT/blob/main/04_primitive_bjects.js\">04_primitive_bjects.js</a>',\n",
       " '<a href=\"https://github.com/SURYAPRAKASHKALYANAM/JAVASCRIPT/blob/main/05_ch1_practicese.js\">05_ch1_practicese.js</a>',\n",
       " '<a href=\"https://github.com/SURYAPRAKASHKALYANAM/JAVASCRIPT/blob/main/06_operators.js\">06_operators.js</a>',\n",
       " '<a href=\"https://github.com/SURYAPRAKASHKALYANAM/JAVASCRIPT/blob/main/07_conditionalexpressions.js\">07_conditionalexpressions.js</a>',\n",
       " '<a href=\"https://github.com/SURYAPRAKASHKALYANAM/JAVASCRIPT/blob/main/08_ch2_practice.js\">08_ch2_practice.js</a>',\n",
       " '<a href=\"https://github.com/SURYAPRAKASHKALYANAM/JAVASCRIPT/blob/main/09_for_loops.js\">09_for_loops.js</a>',\n",
       " '<a href=\"https://github.com/SURYAPRAKASHKALYANAM/JAVASCRIPT/tree/main/100_javascript_eventloop\">100_javascript_eventloop</a>',\n",
       " '<a href=\"https://github.com/SURYAPRAKASHKALYANAM/JAVASCRIPT/blob/main/10_whileloops.js\">10_whileloops.js</a>',\n",
       " '<a href=\"https://github.com/SURYAPRAKASHKALYANAM/JAVASCRIPT/blob/main/11_functions.js\">11_functions.js</a>',\n",
       " '<a href=\"https://github.com/SURYAPRAKASHKALYANAM/JAVASCRIPT/blob/main/12_ch3Practicest.js\">12_ch3Practicest.js</a>',\n",
       " '<a href=\"https://github.com/SURYAPRAKASHKALYANAM/JAVASCRIPT/blob/main/13_strins.js\">13_strins.js</a>',\n",
       " '<a href=\"https://github.com/SURYAPRAKASHKALYANAM/JAVASCRIPT/blob/main/14_stringmethods.js\">14_stringmethods.js</a>',\n",
       " '<a href=\"https://github.com/SURYAPRAKASHKALYANAM/JAVASCRIPT/blob/main/15_ch4_practiceset.js\">15_ch4_practiceset.js</a>',\n",
       " '<a href=\"https://github.com/SURYAPRAKASHKALYANAM/JAVASCRIPT/blob/main/16_arrays.js\">16_arrays.js</a>',\n",
       " '<a href=\"https://github.com/SURYAPRAKASHKALYANAM/JAVASCRIPT/blob/main/17&18_arraymethods.js\">17&18_arraymethods.js</a>',\n",
       " '<a href=\"https://github.com/SURYAPRAKASHKALYANAM/JAVASCRIPT/blob/main/19_array_loops.js\">19_array_loops.js</a>',\n",
       " '<a href=\"https://github.com/SURYAPRAKASHKALYANAM/JAVASCRIPT/blob/main/20_map,filter,reduce.js\">20_map,filter,reduce.js</a>',\n",
       " '<a href=\"https://github.com/SURYAPRAKASHKALYANAM/JAVASCRIPT/blob/main/21_ch5practice.js\">21_ch5practice.js</a>',\n",
       " '<a href=\"https://github.com/SURYAPRAKASHKALYANAM/JAVASCRIPT/blob/main/22_excercise1_guessing number.js\">22_excercise1_guessing number.js</a>',\n",
       " '<a href=\"https://github.com/SURYAPRAKASHKALYANAM/JAVASCRIPT/tree/main/23_javascript_in_browser\">23_javascript_in_browser</a>',\n",
       " '<a href=\"https://github.com/SURYAPRAKASHKALYANAM/JAVASCRIPT/tree/main/24_javascript_tag\">24_javascript_tag</a>',\n",
       " '<a href=\"https://github.com/SURYAPRAKASHKALYANAM/JAVASCRIPT/tree/main/25_javascript_consoleobject\">25_javascript_consoleobject</a>',\n",
       " '<a href=\"https://github.com/SURYAPRAKASHKALYANAM/JAVASCRIPT/tree/main/27_javascript_alert,prompt,confirm\">27_javascript_alert,prompt,confirm</a>',\n",
       " '<a href=\"https://github.com/SURYAPRAKASHKALYANAM/JAVASCRIPT/tree/main/28_javascript_DOM,BOM,WINDOW OBJECT\">28_javascript_DOM,BOM,WINDOW OBJECT</a>',\n",
       " '<a href=\"https://github.com/SURYAPRAKASHKALYANAM/JAVASCRIPT/tree/main/29_javascript_CHAPTER6 practice\">29_javascript_CHAPTER6 practice</a>',\n",
       " '<a href=\"https://github.com/SURYAPRAKASHKALYANAM/JAVASCRIPT/tree/main/30_excercise2_snake,watre,gun\">30_excercise2_snake,watre,gun</a>',\n",
       " '<a href=\"https://github.com/SURYAPRAKASHKALYANAM/JAVASCRIPT/tree/main/31_javascript_waking_the_dom\">31_javascript_waking_the_dom</a>',\n",
       " '<a href=\"https://github.com/SURYAPRAKASHKALYANAM/JAVASCRIPT/tree/main/32_javascript_DOM_ACCSSING CHILDEN\">32_javascript_DOM_ACCSSING CHILDEN</a>',\n",
       " '<a href=\"https://github.com/SURYAPRAKASHKALYANAM/JAVASCRIPT/tree/main/33_javascript_DOM_parents and siblings\">33_javascript_DOM_parents and siblings</a>',\n",
       " '<a href=\"https://github.com/SURYAPRAKASHKALYANAM/JAVASCRIPT/tree/main/34_javascript_Elementonlynavigation\">34_javascript_Elementonlynavigation</a>',\n",
       " '<a href=\"https://github.com/SURYAPRAKASHKALYANAM/JAVASCRIPT/tree/main/35_javascript_table_links\">35_javascript_table_links</a>',\n",
       " '<a href=\"https://github.com/SURYAPRAKASHKALYANAM/JAVASCRIPT/tree/main/36_javascript_searching_dom\">36_javascript_searching_dom</a>',\n",
       " '<a href=\"https://github.com/SURYAPRAKASHKALYANAM/JAVASCRIPT/tree/main/37_javascript_matches,closestandcontains\">37_javascript_matches,closestandcontains</a>',\n",
       " '<a href=\"https://github.com/SURYAPRAKASHKALYANAM/JAVASCRIPT/tree/main/38_javascript_ch7practice\">38_javascript_ch7practice</a>',\n",
       " '<a href=\"https://github.com/SURYAPRAKASHKALYANAM/JAVASCRIPT/tree/main/40_javascript_exercise2\">40_javascript_exercise2</a>',\n",
       " '<a href=\"https://github.com/SURYAPRAKASHKALYANAM/JAVASCRIPT/tree/main/41_javascript_inner,outer html\">41_javascript_inner,outer html</a>',\n",
       " '<a href=\"https://github.com/SURYAPRAKASHKALYANAM/JAVASCRIPT/tree/main/42_javascript_html attributes and methods\">42_javascript_html attributes and methods</a>',\n",
       " '<a href=\"https://github.com/SURYAPRAKASHKALYANAM/JAVASCRIPT/tree/main/43_javascript_html insertion methods\">43_javascript_html insertion methods</a>',\n",
       " '<a href=\"https://github.com/SURYAPRAKASHKALYANAM/JAVASCRIPT/tree/main/44_javascript_insertadjacent-html,text,elememt\">44_javascript_insertadjacent-html,text,elememt</a>',\n",
       " '<a href=\"https://github.com/SURYAPRAKASHKALYANAM/JAVASCRIPT/tree/main/45_javascript_classlist,classname\">45_javascript_classlist,classname</a>',\n",
       " '<a href=\"https://github.com/SURYAPRAKASHKALYANAM/JAVASCRIPT/tree/main/46_javascript_setinterval&timeout\">46_javascript_setinterval&timeout</a>',\n",
       " '<a href=\"https://github.com/SURYAPRAKASHKALYANAM/JAVASCRIPT/tree/main/47_javascript_intro to browser events\">47_javascript_intro to browser events</a>',\n",
       " '<a href=\"https://github.com/SURYAPRAKASHKALYANAM/JAVASCRIPT/tree/main/48_javascript_handling browser events\">48_javascript_handling browser events</a>',\n",
       " '<a href=\"https://github.com/SURYAPRAKASHKALYANAM/JAVASCRIPT/tree/main/49_javascript_ch8practice\">49_javascript_ch8practice</a>',\n",
       " '<a href=\"https://github.com/SURYAPRAKASHKALYANAM/JAVASCRIPT/tree/main/50_javascript_clockusing\">50_javascript_clockusing</a>',\n",
       " '<a href=\"https://github.com/SURYAPRAKASHKALYANAM/JAVASCRIPT/tree/main/52_javascript_introduction to callbacks\">52_javascript_introduction to callbacks</a>',\n",
       " '<a href=\"https://github.com/SURYAPRAKASHKALYANAM/JAVASCRIPT/tree/main/53_javascript_callback hell & pyramid of dom\">53_javascript_callback hell & pyramid of dom</a>',\n",
       " '<a href=\"https://github.com/SURYAPRAKASHKALYANAM/JAVASCRIPT/tree/main/54_javascript_introduction to promise\">54_javascript_introduction to promise</a>',\n",
       " '<a href=\"https://github.com/SURYAPRAKASHKALYANAM/JAVASCRIPT/tree/main/55_javascript_promise then catch\">55_javascript_promise then catch</a>',\n",
       " '<a href=\"https://github.com/SURYAPRAKASHKALYANAM/JAVASCRIPT/tree/main/56_javascript_promise then chaining\">56_javascript_promise then chaining</a>',\n",
       " '<a href=\"https://github.com/SURYAPRAKASHKALYANAM/JAVASCRIPT/tree/main/57_javascript_multiple handlers to a promise\">57_javascript_multiple handlers to a promise</a>',\n",
       " '<a href=\"https://github.com/SURYAPRAKASHKALYANAM/JAVASCRIPT/tree/main/58_javascript_promise api\">58_javascript_promise api</a>',\n",
       " '<a href=\"https://github.com/SURYAPRAKASHKALYANAM/JAVASCRIPT/tree/main/59_javascript_Async_wait\">59_javascript_Async_wait</a>',\n",
       " '<a href=\"https://github.com/SURYAPRAKASHKALYANAM/JAVASCRIPT/tree/main/60_javascript_errorhandling_trycatch\">60_javascript_errorhandling_trycatch</a>',\n",
       " '<a href=\"https://github.com/SURYAPRAKASHKALYANAM/JAVASCRIPT/tree/main/61_javascript_errorobject_customerror\">61_javascript_errorobject_customerror</a>',\n",
       " '<a href=\"https://github.com/SURYAPRAKASHKALYANAM/JAVASCRIPT/tree/main/62_javascript_the finallyclause\">62_javascript_the finallyclause</a>',\n",
       " '<a href=\"https://github.com/SURYAPRAKASHKALYANAM/JAVASCRIPT/tree/main/63_javascript_ch9practise\">63_javascript_ch9practise</a>',\n",
       " '<a href=\"https://github.com/SURYAPRAKASHKALYANAM/JAVASCRIPT/tree/main/65_javascript_exercise5\">65_javascript_exercise5</a>',\n",
       " '<a href=\"https://github.com/SURYAPRAKASHKALYANAM/JAVASCRIPT/tree/main/66_javascript_fetchapi\">66_javascript_fetchapi</a>',\n",
       " '<a href=\"https://github.com/SURYAPRAKASHKALYANAM/JAVASCRIPT/tree/main/67_javascript_post\">67_javascript_post</a>',\n",
       " '<a href=\"https://github.com/SURYAPRAKASHKALYANAM/JAVASCRIPT/tree/main/68_javascript_cookies\">68_javascript_cookies</a>',\n",
       " '<a href=\"https://github.com/SURYAPRAKASHKALYANAM/JAVASCRIPT/tree/main/69_javascript_localstorage_methods\">69_javascript_localstorage_methods</a>',\n",
       " '<a href=\"https://github.com/SURYAPRAKASHKALYANAM/JAVASCRIPT/tree/main/70_javascript_sessionstorage_methods\">70_javascript_sessionstorage_methods</a>',\n",
       " '<a href=\"https://github.com/SURYAPRAKASHKALYANAM/JAVASCRIPT/tree/main/71_javascript_ch10practise\">71_javascript_ch10practise</a>',\n",
       " '<a href=\"https://github.com/SURYAPRAKASHKALYANAM/JAVASCRIPT/tree/main/73_javascript_exercise6_todolist\">73_javascript_exercise6_todolist</a>',\n",
       " '<a href=\"https://github.com/SURYAPRAKASHKALYANAM/JAVASCRIPT/tree/main/74_javascript_prototypes\">74_javascript_prototypes</a>',\n",
       " '<a href=\"https://github.com/SURYAPRAKASHKALYANAM/JAVASCRIPT/tree/main/75_javascript_classes and objects\">75_javascript_classes and objects</a>',\n",
       " '<a href=\"https://github.com/SURYAPRAKASHKALYANAM/JAVASCRIPT/tree/main/76_javascript_constructors\">76_javascript_constructors</a>',\n",
       " '<a href=\"https://github.com/SURYAPRAKASHKALYANAM/JAVASCRIPT/tree/main/77_javascript_inheritence_extends\">77_javascript_inheritence_extends</a>',\n",
       " '<a href=\"https://github.com/SURYAPRAKASHKALYANAM/JAVASCRIPT/tree/main/78_javascript_method_overriding\">78_javascript_method_overriding</a>',\n",
       " '<a href=\"https://github.com/SURYAPRAKASHKALYANAM/JAVASCRIPT/tree/main/79_javascript_constructor_overriding\">79_javascript_constructor_overriding</a>',\n",
       " '<a href=\"https://github.com/SURYAPRAKASHKALYANAM/JAVASCRIPT/tree/main/81_javascript_static_method\">81_javascript_static_method</a>',\n",
       " '<a href=\"https://github.com/SURYAPRAKASHKALYANAM/JAVASCRIPT/tree/main/82_javascript_get_set\">82_javascript_get_set</a>',\n",
       " '<a href=\"https://github.com/SURYAPRAKASHKALYANAM/JAVASCRIPT/tree/main/83_javascript_ch11practice\">83_javascript_ch11practice</a>',\n",
       " '<a href=\"https://github.com/SURYAPRAKASHKALYANAM/JAVASCRIPT/tree/main/86_javascript_IIFE\">86_javascript_IIFE</a>',\n",
       " '<a href=\"https://github.com/SURYAPRAKASHKALYANAM/JAVASCRIPT/tree/main/87_javascript_destructassignand spred_operatr\">87_javascript_destructassignand spred_operatr</a>',\n",
       " '<a href=\"https://github.com/SURYAPRAKASHKALYANAM/JAVASCRIPT/tree/main/88_javascript_local_global_scope\">88_javascript_local_global_scope</a>',\n",
       " '<a href=\"https://github.com/SURYAPRAKASHKALYANAM/JAVASCRIPT/tree/main/89_javascript_hoisting\">89_javascript_hoisting</a>',\n",
       " '<a href=\"https://github.com/SURYAPRAKASHKALYANAM/JAVASCRIPT/tree/main/90_javascript_closures\">90_javascript_closures</a>',\n",
       " '<a href=\"https://github.com/SURYAPRAKASHKALYANAM/JAVASCRIPT/tree/main/91_javascript_arrow functions revisited\">91_javascript_arrow functions revisited</a>',\n",
       " '<a href=\"https://github.com/SURYAPRAKASHKALYANAM/JAVASCRIPT/tree/main/92_javascript_ch12practice\">92_javascript_ch12practice</a>',\n",
       " '<a href=\"https://github.com/SURYAPRAKASHKALYANAM/JAVASCRIPT/tree/main/93_javascript_passwordgenerator\">93_javascript_passwordgenerator</a>',\n",
       " '<a href=\"https://github.com/SURYAPRAKASHKALYANAM/JAVASCRIPT/tree/main/94_javascript_alarmclock\">94_javascript_alarmclock</a>',\n",
       " '<a href=\"https://github.com/SURYAPRAKASHKALYANAM/JAVASCRIPT/tree/main/95_javascript_serverside\">95_javascript_serverside</a>',\n",
       " '<a href=\"https://github.com/SURYAPRAKASHKALYANAM/JAVASCRIPT/tree/main/96_javascript_npmnode\">96_javascript_npmnode</a>',\n",
       " '<a href=\"https://github.com/SURYAPRAKASHKALYANAM/JAVASCRIPT/tree/main/97_javasccript_modules\">97_javasccript_modules</a>',\n",
       " '<a href=\"https://github.com/SURYAPRAKASHKALYANAM/JAVASCRIPT/tree/main/98_javascript_express to create backend server\">98_javascript_express to create backend server</a>',\n",
       " '<a href=\"https://github.com/SURYAPRAKASHKALYANAM/JAVASCRIPT/tree/main/99_javascript_regularexpression\">99_javascript_regularexpression</a>',\n",
       " '<a href=\"https://github.com/SURYAPRAKASHKALYANAM/JAVASCRIPT/tree/main/crete_readme_all_files.ipynb\">crete_readme_all_files.ipynb</a>',\n",
       " '<a href=\"https://github.com/SURYAPRAKASHKALYANAM/JAVASCRIPT/tree/main/jsconfig.json\">jsconfig.json</a>',\n",
       " '<a href=\"https://github.com/SURYAPRAKASHKALYANAM/JAVASCRIPT/tree/main/node_modules\">node_modules</a>',\n",
       " '<a href=\"https://github.com/SURYAPRAKASHKALYANAM/JAVASCRIPT/tree/main/package-lock.json\">package-lock.json</a>',\n",
       " '<a href=\"https://github.com/SURYAPRAKASHKALYANAM/JAVASCRIPT/tree/main/package.json\">package.json</a>',\n",
       " '<a href=\"https://github.com/SURYAPRAKASHKALYANAM/JAVASCRIPT/tree/main/README.md\">README.md</a>',\n",
       " '<a href=\"https://github.com/SURYAPRAKASHKALYANAM/JAVASCRIPT/tree/main/theme.min.css\">theme.min.css</a>']"
      ]
     },
     "execution_count": 32,
     "metadata": {},
     "output_type": "execute_result"
    }
   ],
   "source": [
    "links"
   ]
  },
  {
   "cell_type": "code",
   "execution_count": null,
   "metadata": {},
   "outputs": [],
   "source": []
  }
 ],
 "metadata": {
  "kernelspec": {
   "display_name": "Python 3",
   "language": "python",
   "name": "python3"
  },
  "language_info": {
   "codemirror_mode": {
    "name": "ipython",
    "version": 3
   },
   "file_extension": ".py",
   "mimetype": "text/x-python",
   "name": "python",
   "nbconvert_exporter": "python",
   "pygments_lexer": "ipython3",
   "version": "3.9.13"
  },
  "orig_nbformat": 4
 },
 "nbformat": 4,
 "nbformat_minor": 2
}
