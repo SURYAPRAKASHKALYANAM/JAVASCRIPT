{
 "cells": [
  {
   "cell_type": "code",
   "execution_count": 1,
   "metadata": {},
   "outputs": [],
   "source": [
    "import os"
   ]
  },
  {
   "cell_type": "code",
   "execution_count": 2,
   "metadata": {},
   "outputs": [
    {
     "data": {
      "text/plain": [
       "'.'"
      ]
     },
     "execution_count": 2,
     "metadata": {},
     "output_type": "execute_result"
    }
   ],
   "source": [
    "os.curdir\n"
   ]
  },
  {
   "cell_type": "code",
   "execution_count": 3,
   "metadata": {},
   "outputs": [],
   "source": [
    "l=os.listdir()\n",
    "templ=l.copy()"
   ]
  },
  {
   "cell_type": "code",
   "execution_count": 4,
   "metadata": {},
   "outputs": [
    {
     "data": {
      "text/plain": [
       "100"
      ]
     },
     "execution_count": 4,
     "metadata": {},
     "output_type": "execute_result"
    }
   ],
   "source": [
    "len(l)"
   ]
  },
  {
   "cell_type": "code",
   "execution_count": 5,
   "metadata": {},
   "outputs": [
    {
     "name": "stdout",
     "output_type": "stream",
     "text": [
      "['https://github.com/SURYAPRAKASHKALYANAM/JAVASCRIPT/tree/main/.git', 'https://github.com/SURYAPRAKASHKALYANAM/JAVASCRIPT/tree/main/.hintrc', 'https://github.com/SURYAPRAKASHKALYANAM/JAVASCRIPT/tree/main/.vscode', 'https://github.com/SURYAPRAKASHKALYANAM/JAVASCRIPT/blob/main/03_var_let_const.js', 'https://github.com/SURYAPRAKASHKALYANAM/JAVASCRIPT/blob/main/04_primitive_bjects.js', 'https://github.com/SURYAPRAKASHKALYANAM/JAVASCRIPT/blob/main/05_ch1_practicese.js', 'https://github.com/SURYAPRAKASHKALYANAM/JAVASCRIPT/blob/main/06_operators.js', 'https://github.com/SURYAPRAKASHKALYANAM/JAVASCRIPT/blob/main/07_conditionalexpressions.js', 'https://github.com/SURYAPRAKASHKALYANAM/JAVASCRIPT/blob/main/08_ch2_practice.js', 'https://github.com/SURYAPRAKASHKALYANAM/JAVASCRIPT/blob/main/09_for_loops.js', 'https://github.com/SURYAPRAKASHKALYANAM/JAVASCRIPT/tree/main/100_javascript_eventloop', 'https://github.com/SURYAPRAKASHKALYANAM/JAVASCRIPT/blob/main/10_whileloops.js', 'https://github.com/SURYAPRAKASHKALYANAM/JAVASCRIPT/blob/main/11_functions.js', 'https://github.com/SURYAPRAKASHKALYANAM/JAVASCRIPT/blob/main/12_ch3Practicest.js', 'https://github.com/SURYAPRAKASHKALYANAM/JAVASCRIPT/blob/main/13_strins.js', 'https://github.com/SURYAPRAKASHKALYANAM/JAVASCRIPT/blob/main/14_stringmethods.js', 'https://github.com/SURYAPRAKASHKALYANAM/JAVASCRIPT/blob/main/15_ch4_practiceset.js', 'https://github.com/SURYAPRAKASHKALYANAM/JAVASCRIPT/blob/main/16_arrays.js', 'https://github.com/SURYAPRAKASHKALYANAM/JAVASCRIPT/blob/main/17&18_arraymethods.js', 'https://github.com/SURYAPRAKASHKALYANAM/JAVASCRIPT/blob/main/19_array_loops.js', 'https://github.com/SURYAPRAKASHKALYANAM/JAVASCRIPT/blob/main/20_map,filter,reduce.js', 'https://github.com/SURYAPRAKASHKALYANAM/JAVASCRIPT/blob/main/21_ch5practice.js', 'https://github.com/SURYAPRAKASHKALYANAM/JAVASCRIPT/blob/main/22_excercise1_guessing number.js', 'https://github.com/SURYAPRAKASHKALYANAM/JAVASCRIPT/tree/main/23_javascript_in_browser', 'https://github.com/SURYAPRAKASHKALYANAM/JAVASCRIPT/tree/main/24_javascript_tag', 'https://github.com/SURYAPRAKASHKALYANAM/JAVASCRIPT/tree/main/25_javascript_consoleobject', 'https://github.com/SURYAPRAKASHKALYANAM/JAVASCRIPT/tree/main/27_javascript_alert,prompt,confirm', 'https://github.com/SURYAPRAKASHKALYANAM/JAVASCRIPT/tree/main/28_javascript_DOM,BOM,WINDOW OBJECT', 'https://github.com/SURYAPRAKASHKALYANAM/JAVASCRIPT/tree/main/29_javascript_CHAPTER6 practice', 'https://github.com/SURYAPRAKASHKALYANAM/JAVASCRIPT/tree/main/30_excercise2_snake,watre,gun', 'https://github.com/SURYAPRAKASHKALYANAM/JAVASCRIPT/tree/main/31_javascript_waking_the_dom', 'https://github.com/SURYAPRAKASHKALYANAM/JAVASCRIPT/tree/main/32_javascript_DOM_ACCSSING CHILDEN', 'https://github.com/SURYAPRAKASHKALYANAM/JAVASCRIPT/tree/main/33_javascript_DOM_parents and siblings', 'https://github.com/SURYAPRAKASHKALYANAM/JAVASCRIPT/tree/main/34_javascript_Elementonlynavigation', 'https://github.com/SURYAPRAKASHKALYANAM/JAVASCRIPT/tree/main/35_javascript_table_links', 'https://github.com/SURYAPRAKASHKALYANAM/JAVASCRIPT/tree/main/36_javascript_searching_dom', 'https://github.com/SURYAPRAKASHKALYANAM/JAVASCRIPT/tree/main/37_javascript_matches,closestandcontains', 'https://github.com/SURYAPRAKASHKALYANAM/JAVASCRIPT/tree/main/38_javascript_ch7practice', 'https://github.com/SURYAPRAKASHKALYANAM/JAVASCRIPT/tree/main/40_javascript_exercise2', 'https://github.com/SURYAPRAKASHKALYANAM/JAVASCRIPT/tree/main/41_javascript_inner,outer html', 'https://github.com/SURYAPRAKASHKALYANAM/JAVASCRIPT/tree/main/42_javascript_html attributes and methods', 'https://github.com/SURYAPRAKASHKALYANAM/JAVASCRIPT/tree/main/43_javascript_html insertion methods', 'https://github.com/SURYAPRAKASHKALYANAM/JAVASCRIPT/tree/main/44_javascript_insertadjacent-html,text,elememt', 'https://github.com/SURYAPRAKASHKALYANAM/JAVASCRIPT/tree/main/45_javascript_classlist,classname', 'https://github.com/SURYAPRAKASHKALYANAM/JAVASCRIPT/tree/main/46_javascript_setinterval&timeout', 'https://github.com/SURYAPRAKASHKALYANAM/JAVASCRIPT/tree/main/47_javascript_intro to browser events', 'https://github.com/SURYAPRAKASHKALYANAM/JAVASCRIPT/tree/main/48_javascript_handling browser events', 'https://github.com/SURYAPRAKASHKALYANAM/JAVASCRIPT/tree/main/49_javascript_ch8practice', 'https://github.com/SURYAPRAKASHKALYANAM/JAVASCRIPT/tree/main/50_javascript_clockusing', 'https://github.com/SURYAPRAKASHKALYANAM/JAVASCRIPT/tree/main/52_javascript_introduction to callbacks', 'https://github.com/SURYAPRAKASHKALYANAM/JAVASCRIPT/tree/main/53_javascript_callback hell & pyramid of dom', 'https://github.com/SURYAPRAKASHKALYANAM/JAVASCRIPT/tree/main/54_javascript_introduction to promise', 'https://github.com/SURYAPRAKASHKALYANAM/JAVASCRIPT/tree/main/55_javascript_promise then catch', 'https://github.com/SURYAPRAKASHKALYANAM/JAVASCRIPT/tree/main/56_javascript_promise then chaining', 'https://github.com/SURYAPRAKASHKALYANAM/JAVASCRIPT/tree/main/57_javascript_multiple handlers to a promise', 'https://github.com/SURYAPRAKASHKALYANAM/JAVASCRIPT/tree/main/58_javascript_promise api', 'https://github.com/SURYAPRAKASHKALYANAM/JAVASCRIPT/tree/main/59_javascript_Async_wait', 'https://github.com/SURYAPRAKASHKALYANAM/JAVASCRIPT/tree/main/60_javascript_errorhandling_trycatch', 'https://github.com/SURYAPRAKASHKALYANAM/JAVASCRIPT/tree/main/61_javascript_errorobject_customerror', 'https://github.com/SURYAPRAKASHKALYANAM/JAVASCRIPT/tree/main/62_javascript_the finallyclause', 'https://github.com/SURYAPRAKASHKALYANAM/JAVASCRIPT/tree/main/63_javascript_ch9practise', 'https://github.com/SURYAPRAKASHKALYANAM/JAVASCRIPT/tree/main/65_javascript_exercise5', 'https://github.com/SURYAPRAKASHKALYANAM/JAVASCRIPT/tree/main/66_javascript_fetchapi', 'https://github.com/SURYAPRAKASHKALYANAM/JAVASCRIPT/tree/main/67_javascript_post', 'https://github.com/SURYAPRAKASHKALYANAM/JAVASCRIPT/tree/main/68_javascript_cookies', 'https://github.com/SURYAPRAKASHKALYANAM/JAVASCRIPT/tree/main/69_javascript_localstorage_methods', 'https://github.com/SURYAPRAKASHKALYANAM/JAVASCRIPT/tree/main/70_javascript_sessionstorage_methods', 'https://github.com/SURYAPRAKASHKALYANAM/JAVASCRIPT/tree/main/71_javascript_ch10practise', 'https://github.com/SURYAPRAKASHKALYANAM/JAVASCRIPT/tree/main/73_javascript_exercise6_todolist', 'https://github.com/SURYAPRAKASHKALYANAM/JAVASCRIPT/tree/main/74_javascript_prototypes', 'https://github.com/SURYAPRAKASHKALYANAM/JAVASCRIPT/tree/main/75_javascript_classes and objects', 'https://github.com/SURYAPRAKASHKALYANAM/JAVASCRIPT/tree/main/76_javascript_constructors', 'https://github.com/SURYAPRAKASHKALYANAM/JAVASCRIPT/tree/main/77_javascript_inheritence_extends', 'https://github.com/SURYAPRAKASHKALYANAM/JAVASCRIPT/tree/main/78_javascript_method_overriding', 'https://github.com/SURYAPRAKASHKALYANAM/JAVASCRIPT/tree/main/79_javascript_constructor_overriding', 'https://github.com/SURYAPRAKASHKALYANAM/JAVASCRIPT/tree/main/81_javascript_static_method', 'https://github.com/SURYAPRAKASHKALYANAM/JAVASCRIPT/tree/main/82_javascript_get_set', 'https://github.com/SURYAPRAKASHKALYANAM/JAVASCRIPT/tree/main/83_javascript_ch11practice', 'https://github.com/SURYAPRAKASHKALYANAM/JAVASCRIPT/tree/main/86_javascript_IIFE', 'https://github.com/SURYAPRAKASHKALYANAM/JAVASCRIPT/tree/main/87_javascript_destructassignand spred_operatr', 'https://github.com/SURYAPRAKASHKALYANAM/JAVASCRIPT/tree/main/88_javascript_local_global_scope', 'https://github.com/SURYAPRAKASHKALYANAM/JAVASCRIPT/tree/main/89_javascript_hoisting', 'https://github.com/SURYAPRAKASHKALYANAM/JAVASCRIPT/tree/main/90_javascript_closures', 'https://github.com/SURYAPRAKASHKALYANAM/JAVASCRIPT/tree/main/91_javascript_arrow functions revisited', 'https://github.com/SURYAPRAKASHKALYANAM/JAVASCRIPT/tree/main/92_javascript_ch12practice', 'https://github.com/SURYAPRAKASHKALYANAM/JAVASCRIPT/tree/main/93_javascript_passwordgenerator', 'https://github.com/SURYAPRAKASHKALYANAM/JAVASCRIPT/tree/main/94_javascript_alarmclock', 'https://github.com/SURYAPRAKASHKALYANAM/JAVASCRIPT/tree/main/95_javascript_serverside', 'https://github.com/SURYAPRAKASHKALYANAM/JAVASCRIPT/tree/main/96_javascript_npmnode', 'https://github.com/SURYAPRAKASHKALYANAM/JAVASCRIPT/tree/main/97_javasccript_modules', 'https://github.com/SURYAPRAKASHKALYANAM/JAVASCRIPT/tree/main/98_javascript_express to create backend server', 'https://github.com/SURYAPRAKASHKALYANAM/JAVASCRIPT/tree/main/99_javascript_regularexpression', 'https://github.com/SURYAPRAKASHKALYANAM/JAVASCRIPT/tree/main/crete_readme_all_files.ipynb', 'https://github.com/SURYAPRAKASHKALYANAM/JAVASCRIPT/tree/main/jsconfig.json', 'https://github.com/SURYAPRAKASHKALYANAM/JAVASCRIPT/tree/main/JS_Chapterwise_Notes.pdf', 'https://github.com/SURYAPRAKASHKALYANAM/JAVASCRIPT/tree/main/node_modules', 'https://github.com/SURYAPRAKASHKALYANAM/JAVASCRIPT/tree/main/package-lock.json', 'https://github.com/SURYAPRAKASHKALYANAM/JAVASCRIPT/tree/main/package.json', 'https://github.com/SURYAPRAKASHKALYANAM/JAVASCRIPT/tree/main/README.md', 'https://github.com/SURYAPRAKASHKALYANAM/JAVASCRIPT/tree/main/theme.min.css']\n"
     ]
    }
   ],
   "source": [
    "# URL for .js files\n",
    "js_url = 'https://github.com/SURYAPRAKASHKALYANAM/JAVASCRIPT/blob/main/{}'\n",
    "\n",
    "# URL for folders\n",
    "folder_url = 'https://github.com/SURYAPRAKASHKALYANAM/JAVASCRIPT/tree/main/{}'\n",
    "\n",
    "# Replace .js files and folders with the specified URLs\n",
    "for i in range(len(l)):\n",
    "    if l[i].endswith('.js'):\n",
    "        l[i] = js_url.format(l[i])\n",
    "    else:\n",
    "        l[i] = folder_url.format(l[i])\n",
    "\n",
    "# Print the updated list\n",
    "print(l)"
   ]
  },
  {
   "cell_type": "code",
   "execution_count": 6,
   "metadata": {},
   "outputs": [
    {
     "data": {
      "text/plain": [
       "['.git',\n",
       " '.hintrc',\n",
       " '.vscode',\n",
       " '03_var_let_const.js',\n",
       " '04_primitive_bjects.js',\n",
       " '05_ch1_practicese.js',\n",
       " '06_operators.js',\n",
       " '07_conditionalexpressions.js',\n",
       " '08_ch2_practice.js',\n",
       " '09_for_loops.js',\n",
       " '100_javascript_eventloop',\n",
       " '10_whileloops.js',\n",
       " '11_functions.js',\n",
       " '12_ch3Practicest.js',\n",
       " '13_strins.js',\n",
       " '14_stringmethods.js',\n",
       " '15_ch4_practiceset.js',\n",
       " '16_arrays.js',\n",
       " '17&18_arraymethods.js',\n",
       " '19_array_loops.js',\n",
       " '20_map,filter,reduce.js',\n",
       " '21_ch5practice.js',\n",
       " '22_excercise1_guessing number.js',\n",
       " '23_javascript_in_browser',\n",
       " '24_javascript_tag',\n",
       " '25_javascript_consoleobject',\n",
       " '27_javascript_alert,prompt,confirm',\n",
       " '28_javascript_DOM,BOM,WINDOW OBJECT',\n",
       " '29_javascript_CHAPTER6 practice',\n",
       " '30_excercise2_snake,watre,gun',\n",
       " '31_javascript_waking_the_dom',\n",
       " '32_javascript_DOM_ACCSSING CHILDEN',\n",
       " '33_javascript_DOM_parents and siblings',\n",
       " '34_javascript_Elementonlynavigation',\n",
       " '35_javascript_table_links',\n",
       " '36_javascript_searching_dom',\n",
       " '37_javascript_matches,closestandcontains',\n",
       " '38_javascript_ch7practice',\n",
       " '40_javascript_exercise2',\n",
       " '41_javascript_inner,outer html',\n",
       " '42_javascript_html attributes and methods',\n",
       " '43_javascript_html insertion methods',\n",
       " '44_javascript_insertadjacent-html,text,elememt',\n",
       " '45_javascript_classlist,classname',\n",
       " '46_javascript_setinterval&timeout',\n",
       " '47_javascript_intro to browser events',\n",
       " '48_javascript_handling browser events',\n",
       " '49_javascript_ch8practice',\n",
       " '50_javascript_clockusing',\n",
       " '52_javascript_introduction to callbacks',\n",
       " '53_javascript_callback hell & pyramid of dom',\n",
       " '54_javascript_introduction to promise',\n",
       " '55_javascript_promise then catch',\n",
       " '56_javascript_promise then chaining',\n",
       " '57_javascript_multiple handlers to a promise',\n",
       " '58_javascript_promise api',\n",
       " '59_javascript_Async_wait',\n",
       " '60_javascript_errorhandling_trycatch',\n",
       " '61_javascript_errorobject_customerror',\n",
       " '62_javascript_the finallyclause',\n",
       " '63_javascript_ch9practise',\n",
       " '65_javascript_exercise5',\n",
       " '66_javascript_fetchapi',\n",
       " '67_javascript_post',\n",
       " '68_javascript_cookies',\n",
       " '69_javascript_localstorage_methods',\n",
       " '70_javascript_sessionstorage_methods',\n",
       " '71_javascript_ch10practise',\n",
       " '73_javascript_exercise6_todolist',\n",
       " '74_javascript_prototypes',\n",
       " '75_javascript_classes and objects',\n",
       " '76_javascript_constructors',\n",
       " '77_javascript_inheritence_extends',\n",
       " '78_javascript_method_overriding',\n",
       " '79_javascript_constructor_overriding',\n",
       " '81_javascript_static_method',\n",
       " '82_javascript_get_set',\n",
       " '83_javascript_ch11practice',\n",
       " '86_javascript_IIFE',\n",
       " '87_javascript_destructassignand spred_operatr',\n",
       " '88_javascript_local_global_scope',\n",
       " '89_javascript_hoisting',\n",
       " '90_javascript_closures',\n",
       " '91_javascript_arrow functions revisited',\n",
       " '92_javascript_ch12practice',\n",
       " '93_javascript_passwordgenerator',\n",
       " '94_javascript_alarmclock',\n",
       " '95_javascript_serverside',\n",
       " '96_javascript_npmnode',\n",
       " '97_javasccript_modules',\n",
       " '98_javascript_express to create backend server',\n",
       " '99_javascript_regularexpression',\n",
       " 'crete_readme_all_files.ipynb',\n",
       " 'jsconfig.json',\n",
       " 'JS_Chapterwise_Notes.pdf',\n",
       " 'node_modules',\n",
       " 'package-lock.json',\n",
       " 'package.json',\n",
       " 'README.md',\n",
       " 'theme.min.css']"
      ]
     },
     "execution_count": 6,
     "metadata": {},
     "output_type": "execute_result"
    }
   ],
   "source": [
    "templ"
   ]
  },
  {
   "cell_type": "code",
   "execution_count": 12,
   "metadata": {},
   "outputs": [],
   "source": [
    "# add html\n",
    "links=[]\n",
    "for i in range(len(templ)):\n",
    "    links.append('<a href=\"{}\" target=\"_blank\">{}</a>'.format(l[i],templ[i]))"
   ]
  },
  {
   "cell_type": "code",
   "execution_count": 13,
   "metadata": {},
   "outputs": [
    {
     "name": "stdout",
     "output_type": "stream",
     "text": [
      "<li><a href=\"https://github.com/SURYAPRAKASHKALYANAM/JAVASCRIPT/tree/main/.git\" target=\"_blank\">.git</a></li><br>\n",
      "<li><a href=\"https://github.com/SURYAPRAKASHKALYANAM/JAVASCRIPT/tree/main/.hintrc\" target=\"_blank\">.hintrc</a></li><br>\n",
      "<li><a href=\"https://github.com/SURYAPRAKASHKALYANAM/JAVASCRIPT/tree/main/.vscode\" target=\"_blank\">.vscode</a></li><br>\n",
      "<li><a href=\"https://github.com/SURYAPRAKASHKALYANAM/JAVASCRIPT/blob/main/03_var_let_const.js\" target=\"_blank\">03_var_let_const.js</a></li><br>\n",
      "<li><a href=\"https://github.com/SURYAPRAKASHKALYANAM/JAVASCRIPT/blob/main/04_primitive_bjects.js\" target=\"_blank\">04_primitive_bjects.js</a></li><br>\n",
      "<li><a href=\"https://github.com/SURYAPRAKASHKALYANAM/JAVASCRIPT/blob/main/05_ch1_practicese.js\" target=\"_blank\">05_ch1_practicese.js</a></li><br>\n",
      "<li><a href=\"https://github.com/SURYAPRAKASHKALYANAM/JAVASCRIPT/blob/main/06_operators.js\" target=\"_blank\">06_operators.js</a></li><br>\n",
      "<li><a href=\"https://github.com/SURYAPRAKASHKALYANAM/JAVASCRIPT/blob/main/07_conditionalexpressions.js\" target=\"_blank\">07_conditionalexpressions.js</a></li><br>\n",
      "<li><a href=\"https://github.com/SURYAPRAKASHKALYANAM/JAVASCRIPT/blob/main/08_ch2_practice.js\" target=\"_blank\">08_ch2_practice.js</a></li><br>\n",
      "<li><a href=\"https://github.com/SURYAPRAKASHKALYANAM/JAVASCRIPT/blob/main/09_for_loops.js\" target=\"_blank\">09_for_loops.js</a></li><br>\n",
      "<li><a href=\"https://github.com/SURYAPRAKASHKALYANAM/JAVASCRIPT/tree/main/100_javascript_eventloop\" target=\"_blank\">100_javascript_eventloop</a></li><br>\n",
      "<li><a href=\"https://github.com/SURYAPRAKASHKALYANAM/JAVASCRIPT/blob/main/10_whileloops.js\" target=\"_blank\">10_whileloops.js</a></li><br>\n",
      "<li><a href=\"https://github.com/SURYAPRAKASHKALYANAM/JAVASCRIPT/blob/main/11_functions.js\" target=\"_blank\">11_functions.js</a></li><br>\n",
      "<li><a href=\"https://github.com/SURYAPRAKASHKALYANAM/JAVASCRIPT/blob/main/12_ch3Practicest.js\" target=\"_blank\">12_ch3Practicest.js</a></li><br>\n",
      "<li><a href=\"https://github.com/SURYAPRAKASHKALYANAM/JAVASCRIPT/blob/main/13_strins.js\" target=\"_blank\">13_strins.js</a></li><br>\n",
      "<li><a href=\"https://github.com/SURYAPRAKASHKALYANAM/JAVASCRIPT/blob/main/14_stringmethods.js\" target=\"_blank\">14_stringmethods.js</a></li><br>\n",
      "<li><a href=\"https://github.com/SURYAPRAKASHKALYANAM/JAVASCRIPT/blob/main/15_ch4_practiceset.js\" target=\"_blank\">15_ch4_practiceset.js</a></li><br>\n",
      "<li><a href=\"https://github.com/SURYAPRAKASHKALYANAM/JAVASCRIPT/blob/main/16_arrays.js\" target=\"_blank\">16_arrays.js</a></li><br>\n",
      "<li><a href=\"https://github.com/SURYAPRAKASHKALYANAM/JAVASCRIPT/blob/main/17&18_arraymethods.js\" target=\"_blank\">17&18_arraymethods.js</a></li><br>\n",
      "<li><a href=\"https://github.com/SURYAPRAKASHKALYANAM/JAVASCRIPT/blob/main/19_array_loops.js\" target=\"_blank\">19_array_loops.js</a></li><br>\n",
      "<li><a href=\"https://github.com/SURYAPRAKASHKALYANAM/JAVASCRIPT/blob/main/20_map,filter,reduce.js\" target=\"_blank\">20_map,filter,reduce.js</a></li><br>\n",
      "<li><a href=\"https://github.com/SURYAPRAKASHKALYANAM/JAVASCRIPT/blob/main/21_ch5practice.js\" target=\"_blank\">21_ch5practice.js</a></li><br>\n",
      "<li><a href=\"https://github.com/SURYAPRAKASHKALYANAM/JAVASCRIPT/blob/main/22_excercise1_guessing number.js\" target=\"_blank\">22_excercise1_guessing number.js</a></li><br>\n",
      "<li><a href=\"https://github.com/SURYAPRAKASHKALYANAM/JAVASCRIPT/tree/main/23_javascript_in_browser\" target=\"_blank\">23_javascript_in_browser</a></li><br>\n",
      "<li><a href=\"https://github.com/SURYAPRAKASHKALYANAM/JAVASCRIPT/tree/main/24_javascript_tag\" target=\"_blank\">24_javascript_tag</a></li><br>\n",
      "<li><a href=\"https://github.com/SURYAPRAKASHKALYANAM/JAVASCRIPT/tree/main/25_javascript_consoleobject\" target=\"_blank\">25_javascript_consoleobject</a></li><br>\n",
      "<li><a href=\"https://github.com/SURYAPRAKASHKALYANAM/JAVASCRIPT/tree/main/27_javascript_alert,prompt,confirm\" target=\"_blank\">27_javascript_alert,prompt,confirm</a></li><br>\n",
      "<li><a href=\"https://github.com/SURYAPRAKASHKALYANAM/JAVASCRIPT/tree/main/28_javascript_DOM,BOM,WINDOW OBJECT\" target=\"_blank\">28_javascript_DOM,BOM,WINDOW OBJECT</a></li><br>\n",
      "<li><a href=\"https://github.com/SURYAPRAKASHKALYANAM/JAVASCRIPT/tree/main/29_javascript_CHAPTER6 practice\" target=\"_blank\">29_javascript_CHAPTER6 practice</a></li><br>\n",
      "<li><a href=\"https://github.com/SURYAPRAKASHKALYANAM/JAVASCRIPT/tree/main/30_excercise2_snake,watre,gun\" target=\"_blank\">30_excercise2_snake,watre,gun</a></li><br>\n",
      "<li><a href=\"https://github.com/SURYAPRAKASHKALYANAM/JAVASCRIPT/tree/main/31_javascript_waking_the_dom\" target=\"_blank\">31_javascript_waking_the_dom</a></li><br>\n",
      "<li><a href=\"https://github.com/SURYAPRAKASHKALYANAM/JAVASCRIPT/tree/main/32_javascript_DOM_ACCSSING CHILDEN\" target=\"_blank\">32_javascript_DOM_ACCSSING CHILDEN</a></li><br>\n",
      "<li><a href=\"https://github.com/SURYAPRAKASHKALYANAM/JAVASCRIPT/tree/main/33_javascript_DOM_parents and siblings\" target=\"_blank\">33_javascript_DOM_parents and siblings</a></li><br>\n",
      "<li><a href=\"https://github.com/SURYAPRAKASHKALYANAM/JAVASCRIPT/tree/main/34_javascript_Elementonlynavigation\" target=\"_blank\">34_javascript_Elementonlynavigation</a></li><br>\n",
      "<li><a href=\"https://github.com/SURYAPRAKASHKALYANAM/JAVASCRIPT/tree/main/35_javascript_table_links\" target=\"_blank\">35_javascript_table_links</a></li><br>\n",
      "<li><a href=\"https://github.com/SURYAPRAKASHKALYANAM/JAVASCRIPT/tree/main/36_javascript_searching_dom\" target=\"_blank\">36_javascript_searching_dom</a></li><br>\n",
      "<li><a href=\"https://github.com/SURYAPRAKASHKALYANAM/JAVASCRIPT/tree/main/37_javascript_matches,closestandcontains\" target=\"_blank\">37_javascript_matches,closestandcontains</a></li><br>\n",
      "<li><a href=\"https://github.com/SURYAPRAKASHKALYANAM/JAVASCRIPT/tree/main/38_javascript_ch7practice\" target=\"_blank\">38_javascript_ch7practice</a></li><br>\n",
      "<li><a href=\"https://github.com/SURYAPRAKASHKALYANAM/JAVASCRIPT/tree/main/40_javascript_exercise2\" target=\"_blank\">40_javascript_exercise2</a></li><br>\n",
      "<li><a href=\"https://github.com/SURYAPRAKASHKALYANAM/JAVASCRIPT/tree/main/41_javascript_inner,outer html\" target=\"_blank\">41_javascript_inner,outer html</a></li><br>\n",
      "<li><a href=\"https://github.com/SURYAPRAKASHKALYANAM/JAVASCRIPT/tree/main/42_javascript_html attributes and methods\" target=\"_blank\">42_javascript_html attributes and methods</a></li><br>\n",
      "<li><a href=\"https://github.com/SURYAPRAKASHKALYANAM/JAVASCRIPT/tree/main/43_javascript_html insertion methods\" target=\"_blank\">43_javascript_html insertion methods</a></li><br>\n",
      "<li><a href=\"https://github.com/SURYAPRAKASHKALYANAM/JAVASCRIPT/tree/main/44_javascript_insertadjacent-html,text,elememt\" target=\"_blank\">44_javascript_insertadjacent-html,text,elememt</a></li><br>\n",
      "<li><a href=\"https://github.com/SURYAPRAKASHKALYANAM/JAVASCRIPT/tree/main/45_javascript_classlist,classname\" target=\"_blank\">45_javascript_classlist,classname</a></li><br>\n",
      "<li><a href=\"https://github.com/SURYAPRAKASHKALYANAM/JAVASCRIPT/tree/main/46_javascript_setinterval&timeout\" target=\"_blank\">46_javascript_setinterval&timeout</a></li><br>\n",
      "<li><a href=\"https://github.com/SURYAPRAKASHKALYANAM/JAVASCRIPT/tree/main/47_javascript_intro to browser events\" target=\"_blank\">47_javascript_intro to browser events</a></li><br>\n",
      "<li><a href=\"https://github.com/SURYAPRAKASHKALYANAM/JAVASCRIPT/tree/main/48_javascript_handling browser events\" target=\"_blank\">48_javascript_handling browser events</a></li><br>\n",
      "<li><a href=\"https://github.com/SURYAPRAKASHKALYANAM/JAVASCRIPT/tree/main/49_javascript_ch8practice\" target=\"_blank\">49_javascript_ch8practice</a></li><br>\n",
      "<li><a href=\"https://github.com/SURYAPRAKASHKALYANAM/JAVASCRIPT/tree/main/50_javascript_clockusing\" target=\"_blank\">50_javascript_clockusing</a></li><br>\n",
      "<li><a href=\"https://github.com/SURYAPRAKASHKALYANAM/JAVASCRIPT/tree/main/52_javascript_introduction to callbacks\" target=\"_blank\">52_javascript_introduction to callbacks</a></li><br>\n",
      "<li><a href=\"https://github.com/SURYAPRAKASHKALYANAM/JAVASCRIPT/tree/main/53_javascript_callback hell & pyramid of dom\" target=\"_blank\">53_javascript_callback hell & pyramid of dom</a></li><br>\n",
      "<li><a href=\"https://github.com/SURYAPRAKASHKALYANAM/JAVASCRIPT/tree/main/54_javascript_introduction to promise\" target=\"_blank\">54_javascript_introduction to promise</a></li><br>\n",
      "<li><a href=\"https://github.com/SURYAPRAKASHKALYANAM/JAVASCRIPT/tree/main/55_javascript_promise then catch\" target=\"_blank\">55_javascript_promise then catch</a></li><br>\n",
      "<li><a href=\"https://github.com/SURYAPRAKASHKALYANAM/JAVASCRIPT/tree/main/56_javascript_promise then chaining\" target=\"_blank\">56_javascript_promise then chaining</a></li><br>\n",
      "<li><a href=\"https://github.com/SURYAPRAKASHKALYANAM/JAVASCRIPT/tree/main/57_javascript_multiple handlers to a promise\" target=\"_blank\">57_javascript_multiple handlers to a promise</a></li><br>\n",
      "<li><a href=\"https://github.com/SURYAPRAKASHKALYANAM/JAVASCRIPT/tree/main/58_javascript_promise api\" target=\"_blank\">58_javascript_promise api</a></li><br>\n",
      "<li><a href=\"https://github.com/SURYAPRAKASHKALYANAM/JAVASCRIPT/tree/main/59_javascript_Async_wait\" target=\"_blank\">59_javascript_Async_wait</a></li><br>\n",
      "<li><a href=\"https://github.com/SURYAPRAKASHKALYANAM/JAVASCRIPT/tree/main/60_javascript_errorhandling_trycatch\" target=\"_blank\">60_javascript_errorhandling_trycatch</a></li><br>\n",
      "<li><a href=\"https://github.com/SURYAPRAKASHKALYANAM/JAVASCRIPT/tree/main/61_javascript_errorobject_customerror\" target=\"_blank\">61_javascript_errorobject_customerror</a></li><br>\n",
      "<li><a href=\"https://github.com/SURYAPRAKASHKALYANAM/JAVASCRIPT/tree/main/62_javascript_the finallyclause\" target=\"_blank\">62_javascript_the finallyclause</a></li><br>\n",
      "<li><a href=\"https://github.com/SURYAPRAKASHKALYANAM/JAVASCRIPT/tree/main/63_javascript_ch9practise\" target=\"_blank\">63_javascript_ch9practise</a></li><br>\n",
      "<li><a href=\"https://github.com/SURYAPRAKASHKALYANAM/JAVASCRIPT/tree/main/65_javascript_exercise5\" target=\"_blank\">65_javascript_exercise5</a></li><br>\n",
      "<li><a href=\"https://github.com/SURYAPRAKASHKALYANAM/JAVASCRIPT/tree/main/66_javascript_fetchapi\" target=\"_blank\">66_javascript_fetchapi</a></li><br>\n",
      "<li><a href=\"https://github.com/SURYAPRAKASHKALYANAM/JAVASCRIPT/tree/main/67_javascript_post\" target=\"_blank\">67_javascript_post</a></li><br>\n",
      "<li><a href=\"https://github.com/SURYAPRAKASHKALYANAM/JAVASCRIPT/tree/main/68_javascript_cookies\" target=\"_blank\">68_javascript_cookies</a></li><br>\n",
      "<li><a href=\"https://github.com/SURYAPRAKASHKALYANAM/JAVASCRIPT/tree/main/69_javascript_localstorage_methods\" target=\"_blank\">69_javascript_localstorage_methods</a></li><br>\n",
      "<li><a href=\"https://github.com/SURYAPRAKASHKALYANAM/JAVASCRIPT/tree/main/70_javascript_sessionstorage_methods\" target=\"_blank\">70_javascript_sessionstorage_methods</a></li><br>\n",
      "<li><a href=\"https://github.com/SURYAPRAKASHKALYANAM/JAVASCRIPT/tree/main/71_javascript_ch10practise\" target=\"_blank\">71_javascript_ch10practise</a></li><br>\n",
      "<li><a href=\"https://github.com/SURYAPRAKASHKALYANAM/JAVASCRIPT/tree/main/73_javascript_exercise6_todolist\" target=\"_blank\">73_javascript_exercise6_todolist</a></li><br>\n",
      "<li><a href=\"https://github.com/SURYAPRAKASHKALYANAM/JAVASCRIPT/tree/main/74_javascript_prototypes\" target=\"_blank\">74_javascript_prototypes</a></li><br>\n",
      "<li><a href=\"https://github.com/SURYAPRAKASHKALYANAM/JAVASCRIPT/tree/main/75_javascript_classes and objects\" target=\"_blank\">75_javascript_classes and objects</a></li><br>\n",
      "<li><a href=\"https://github.com/SURYAPRAKASHKALYANAM/JAVASCRIPT/tree/main/76_javascript_constructors\" target=\"_blank\">76_javascript_constructors</a></li><br>\n",
      "<li><a href=\"https://github.com/SURYAPRAKASHKALYANAM/JAVASCRIPT/tree/main/77_javascript_inheritence_extends\" target=\"_blank\">77_javascript_inheritence_extends</a></li><br>\n",
      "<li><a href=\"https://github.com/SURYAPRAKASHKALYANAM/JAVASCRIPT/tree/main/78_javascript_method_overriding\" target=\"_blank\">78_javascript_method_overriding</a></li><br>\n",
      "<li><a href=\"https://github.com/SURYAPRAKASHKALYANAM/JAVASCRIPT/tree/main/79_javascript_constructor_overriding\" target=\"_blank\">79_javascript_constructor_overriding</a></li><br>\n",
      "<li><a href=\"https://github.com/SURYAPRAKASHKALYANAM/JAVASCRIPT/tree/main/81_javascript_static_method\" target=\"_blank\">81_javascript_static_method</a></li><br>\n",
      "<li><a href=\"https://github.com/SURYAPRAKASHKALYANAM/JAVASCRIPT/tree/main/82_javascript_get_set\" target=\"_blank\">82_javascript_get_set</a></li><br>\n",
      "<li><a href=\"https://github.com/SURYAPRAKASHKALYANAM/JAVASCRIPT/tree/main/83_javascript_ch11practice\" target=\"_blank\">83_javascript_ch11practice</a></li><br>\n",
      "<li><a href=\"https://github.com/SURYAPRAKASHKALYANAM/JAVASCRIPT/tree/main/86_javascript_IIFE\" target=\"_blank\">86_javascript_IIFE</a></li><br>\n",
      "<li><a href=\"https://github.com/SURYAPRAKASHKALYANAM/JAVASCRIPT/tree/main/87_javascript_destructassignand spred_operatr\" target=\"_blank\">87_javascript_destructassignand spred_operatr</a></li><br>\n",
      "<li><a href=\"https://github.com/SURYAPRAKASHKALYANAM/JAVASCRIPT/tree/main/88_javascript_local_global_scope\" target=\"_blank\">88_javascript_local_global_scope</a></li><br>\n",
      "<li><a href=\"https://github.com/SURYAPRAKASHKALYANAM/JAVASCRIPT/tree/main/89_javascript_hoisting\" target=\"_blank\">89_javascript_hoisting</a></li><br>\n",
      "<li><a href=\"https://github.com/SURYAPRAKASHKALYANAM/JAVASCRIPT/tree/main/90_javascript_closures\" target=\"_blank\">90_javascript_closures</a></li><br>\n",
      "<li><a href=\"https://github.com/SURYAPRAKASHKALYANAM/JAVASCRIPT/tree/main/91_javascript_arrow functions revisited\" target=\"_blank\">91_javascript_arrow functions revisited</a></li><br>\n",
      "<li><a href=\"https://github.com/SURYAPRAKASHKALYANAM/JAVASCRIPT/tree/main/92_javascript_ch12practice\" target=\"_blank\">92_javascript_ch12practice</a></li><br>\n",
      "<li><a href=\"https://github.com/SURYAPRAKASHKALYANAM/JAVASCRIPT/tree/main/93_javascript_passwordgenerator\" target=\"_blank\">93_javascript_passwordgenerator</a></li><br>\n",
      "<li><a href=\"https://github.com/SURYAPRAKASHKALYANAM/JAVASCRIPT/tree/main/94_javascript_alarmclock\" target=\"_blank\">94_javascript_alarmclock</a></li><br>\n",
      "<li><a href=\"https://github.com/SURYAPRAKASHKALYANAM/JAVASCRIPT/tree/main/95_javascript_serverside\" target=\"_blank\">95_javascript_serverside</a></li><br>\n",
      "<li><a href=\"https://github.com/SURYAPRAKASHKALYANAM/JAVASCRIPT/tree/main/96_javascript_npmnode\" target=\"_blank\">96_javascript_npmnode</a></li><br>\n",
      "<li><a href=\"https://github.com/SURYAPRAKASHKALYANAM/JAVASCRIPT/tree/main/97_javasccript_modules\" target=\"_blank\">97_javasccript_modules</a></li><br>\n",
      "<li><a href=\"https://github.com/SURYAPRAKASHKALYANAM/JAVASCRIPT/tree/main/98_javascript_express to create backend server\" target=\"_blank\">98_javascript_express to create backend server</a></li><br>\n",
      "<li><a href=\"https://github.com/SURYAPRAKASHKALYANAM/JAVASCRIPT/tree/main/99_javascript_regularexpression\" target=\"_blank\">99_javascript_regularexpression</a></li><br>\n",
      "<li><a href=\"https://github.com/SURYAPRAKASHKALYANAM/JAVASCRIPT/tree/main/crete_readme_all_files.ipynb\" target=\"_blank\">crete_readme_all_files.ipynb</a></li><br>\n",
      "<li><a href=\"https://github.com/SURYAPRAKASHKALYANAM/JAVASCRIPT/tree/main/jsconfig.json\" target=\"_blank\">jsconfig.json</a></li><br>\n",
      "<li><a href=\"https://github.com/SURYAPRAKASHKALYANAM/JAVASCRIPT/tree/main/JS_Chapterwise_Notes.pdf\" target=\"_blank\">JS_Chapterwise_Notes.pdf</a></li><br>\n",
      "<li><a href=\"https://github.com/SURYAPRAKASHKALYANAM/JAVASCRIPT/tree/main/node_modules\" target=\"_blank\">node_modules</a></li><br>\n",
      "<li><a href=\"https://github.com/SURYAPRAKASHKALYANAM/JAVASCRIPT/tree/main/package-lock.json\" target=\"_blank\">package-lock.json</a></li><br>\n",
      "<li><a href=\"https://github.com/SURYAPRAKASHKALYANAM/JAVASCRIPT/tree/main/package.json\" target=\"_blank\">package.json</a></li><br>\n",
      "<li><a href=\"https://github.com/SURYAPRAKASHKALYANAM/JAVASCRIPT/tree/main/README.md\" target=\"_blank\">README.md</a></li><br>\n",
      "<li><a href=\"https://github.com/SURYAPRAKASHKALYANAM/JAVASCRIPT/tree/main/theme.min.css\" target=\"_blank\">theme.min.css</a></li><br>\n"
     ]
    }
   ],
   "source": [
    "for i in links:\n",
    "    print('<li>'+i+'</li>'+'<br>')"
   ]
  },
  {
   "cell_type": "code",
   "execution_count": null,
   "metadata": {},
   "outputs": [],
   "source": []
  }
 ],
 "metadata": {
  "kernelspec": {
   "display_name": "Python 3",
   "language": "python",
   "name": "python3"
  },
  "language_info": {
   "codemirror_mode": {
    "name": "ipython",
    "version": 3
   },
   "file_extension": ".py",
   "mimetype": "text/x-python",
   "name": "python",
   "nbconvert_exporter": "python",
   "pygments_lexer": "ipython3",
   "version": "3.9.13"
  },
  "orig_nbformat": 4
 },
 "nbformat": 4,
 "nbformat_minor": 2
}
